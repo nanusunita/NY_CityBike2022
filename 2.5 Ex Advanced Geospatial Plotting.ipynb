{
 "cells": [
  {
   "cell_type": "markdown",
   "id": "0b540b58-7e74-4882-8ff4-d5f86705c665",
   "metadata": {},
   "source": [
    "# E5 Advanced geospatial plotting "
   ]
  },
  {
   "cell_type": "code",
   "execution_count": 1,
   "id": "a3fc7167-d883-4712-a7d6-099e3d67bcd9",
   "metadata": {},
   "outputs": [],
   "source": [
    "import pandas as pd\n",
    "import os\n",
    "from keplergl import KeplerGl\n",
    "from pyproj import CRS\n",
    "import numpy as np\n",
    "from matplotlib import pyplot as plt"
   ]
  },
  {
   "cell_type": "code",
   "execution_count": 2,
   "id": "14af6461-6346-462d-9f38-40921e36b844",
   "metadata": {},
   "outputs": [
    {
     "name": "stderr",
     "output_type": "stream",
     "text": [
      "C:\\Users\\BhuwanDhakal\\AppData\\Local\\Temp\\ipykernel_19476\\2486714068.py:1: DtypeWarning: Columns (6,8) have mixed types. Specify dtype option on import or set low_memory=False.\n",
      "  df = pd.read_csv('NY_CityBike_Temp_2022.csv', index_col = 0)\n"
     ]
    }
   ],
   "source": [
    "df = pd.read_csv('NY_CityBike_Temp_2022.csv', index_col = 0)"
   ]
  },
  {
   "cell_type": "markdown",
   "id": "61cad0bf-c7cb-42f5-9301-394dbb92b42a",
   "metadata": {},
   "source": [
    "## Data preprocessing"
   ]
  },
  {
   "cell_type": "code",
   "execution_count": 3,
   "id": "9c95cc42-7809-4ead-b7c7-34fd040f3e9a",
   "metadata": {},
   "outputs": [
    {
     "data": {
      "text/html": [
       "<div>\n",
       "<style scoped>\n",
       "    .dataframe tbody tr th:only-of-type {\n",
       "        vertical-align: middle;\n",
       "    }\n",
       "\n",
       "    .dataframe tbody tr th {\n",
       "        vertical-align: top;\n",
       "    }\n",
       "\n",
       "    .dataframe thead th {\n",
       "        text-align: right;\n",
       "    }\n",
       "</style>\n",
       "<table border=\"1\" class=\"dataframe\">\n",
       "  <thead>\n",
       "    <tr style=\"text-align: right;\">\n",
       "      <th></th>\n",
       "      <th>ride_id</th>\n",
       "      <th>rideable_type</th>\n",
       "      <th>started_at</th>\n",
       "      <th>ended_at</th>\n",
       "      <th>start_station_name</th>\n",
       "      <th>start_station_id</th>\n",
       "      <th>end_station_name</th>\n",
       "      <th>end_station_id</th>\n",
       "      <th>start_lat</th>\n",
       "      <th>start_lng</th>\n",
       "      <th>end_lat</th>\n",
       "      <th>end_lng</th>\n",
       "      <th>member_casual</th>\n",
       "      <th>start_time</th>\n",
       "      <th>date</th>\n",
       "      <th>avgTemp</th>\n",
       "      <th>_merge</th>\n",
       "    </tr>\n",
       "  </thead>\n",
       "  <tbody>\n",
       "    <tr>\n",
       "      <th>0</th>\n",
       "      <td>55262E4365A955A2</td>\n",
       "      <td>classic_bike</td>\n",
       "      <td>2022-01-18 08:23:52</td>\n",
       "      <td>2022-01-18 08:28:18</td>\n",
       "      <td>Boerum Pl\\t&amp; Pacific St</td>\n",
       "      <td>4488.09</td>\n",
       "      <td>Clinton St &amp; Joralemon St</td>\n",
       "      <td>4605.04</td>\n",
       "      <td>40.688489</td>\n",
       "      <td>-73.991160</td>\n",
       "      <td>40.692395</td>\n",
       "      <td>-73.993379</td>\n",
       "      <td>member</td>\n",
       "      <td>2022-01-18 08:23:52</td>\n",
       "      <td>2022-01-18</td>\n",
       "      <td>1.8</td>\n",
       "      <td>both</td>\n",
       "    </tr>\n",
       "    <tr>\n",
       "      <th>1</th>\n",
       "      <td>D272F1B15D841EC0</td>\n",
       "      <td>classic_bike</td>\n",
       "      <td>2022-01-21 09:03:22</td>\n",
       "      <td>2022-01-21 09:05:44</td>\n",
       "      <td>E 12 St &amp; Ave C</td>\n",
       "      <td>5616.08</td>\n",
       "      <td>E 10 St &amp; Avenue A</td>\n",
       "      <td>5659.05</td>\n",
       "      <td>40.727243</td>\n",
       "      <td>-73.976831</td>\n",
       "      <td>40.727408</td>\n",
       "      <td>-73.981420</td>\n",
       "      <td>member</td>\n",
       "      <td>2022-01-21 09:03:22</td>\n",
       "      <td>2022-01-21</td>\n",
       "      <td>-6.0</td>\n",
       "      <td>both</td>\n",
       "    </tr>\n",
       "    <tr>\n",
       "      <th>2</th>\n",
       "      <td>D1FCEF55EB4A807F</td>\n",
       "      <td>classic_bike</td>\n",
       "      <td>2022-01-22 14:28:32</td>\n",
       "      <td>2022-01-22 14:53:18</td>\n",
       "      <td>W 21 St &amp; 6 Ave</td>\n",
       "      <td>6140.05</td>\n",
       "      <td>W 44 St &amp; 11 Ave</td>\n",
       "      <td>6756.05</td>\n",
       "      <td>40.741740</td>\n",
       "      <td>-73.994156</td>\n",
       "      <td>40.762009</td>\n",
       "      <td>-73.996975</td>\n",
       "      <td>member</td>\n",
       "      <td>2022-01-22 14:28:32</td>\n",
       "      <td>2022-01-22</td>\n",
       "      <td>-5.9</td>\n",
       "      <td>both</td>\n",
       "    </tr>\n",
       "    <tr>\n",
       "      <th>3</th>\n",
       "      <td>E9CBDC6A0162C068</td>\n",
       "      <td>electric_bike</td>\n",
       "      <td>2022-01-19 14:49:47</td>\n",
       "      <td>2022-01-19 14:54:02</td>\n",
       "      <td>38 St &amp; 30 Ave</td>\n",
       "      <td>6850.01</td>\n",
       "      <td>Crescent St &amp; 30 Ave</td>\n",
       "      <td>6958.06</td>\n",
       "      <td>40.764175</td>\n",
       "      <td>-73.915840</td>\n",
       "      <td>40.768692</td>\n",
       "      <td>-73.924957</td>\n",
       "      <td>member</td>\n",
       "      <td>2022-01-19 14:49:47</td>\n",
       "      <td>2022-01-19</td>\n",
       "      <td>3.2</td>\n",
       "      <td>both</td>\n",
       "    </tr>\n",
       "    <tr>\n",
       "      <th>4</th>\n",
       "      <td>2177A5B57326CE9B</td>\n",
       "      <td>electric_bike</td>\n",
       "      <td>2022-01-16 14:36:06</td>\n",
       "      <td>2022-01-16 14:44:06</td>\n",
       "      <td>Pacific St &amp; Nevins St</td>\n",
       "      <td>4362.04</td>\n",
       "      <td>Clinton St &amp; Tillary St</td>\n",
       "      <td>4748.07</td>\n",
       "      <td>40.685376</td>\n",
       "      <td>-73.983021</td>\n",
       "      <td>40.696233</td>\n",
       "      <td>-73.991421</td>\n",
       "      <td>member</td>\n",
       "      <td>2022-01-16 14:36:06</td>\n",
       "      <td>2022-01-16</td>\n",
       "      <td>-8.0</td>\n",
       "      <td>both</td>\n",
       "    </tr>\n",
       "  </tbody>\n",
       "</table>\n",
       "</div>"
      ],
      "text/plain": [
       "            ride_id  rideable_type           started_at             ended_at  \\\n",
       "0  55262E4365A955A2   classic_bike  2022-01-18 08:23:52  2022-01-18 08:28:18   \n",
       "1  D272F1B15D841EC0   classic_bike  2022-01-21 09:03:22  2022-01-21 09:05:44   \n",
       "2  D1FCEF55EB4A807F   classic_bike  2022-01-22 14:28:32  2022-01-22 14:53:18   \n",
       "3  E9CBDC6A0162C068  electric_bike  2022-01-19 14:49:47  2022-01-19 14:54:02   \n",
       "4  2177A5B57326CE9B  electric_bike  2022-01-16 14:36:06  2022-01-16 14:44:06   \n",
       "\n",
       "        start_station_name start_station_id           end_station_name  \\\n",
       "0  Boerum Pl\\t& Pacific St          4488.09  Clinton St & Joralemon St   \n",
       "1          E 12 St & Ave C          5616.08         E 10 St & Avenue A   \n",
       "2          W 21 St & 6 Ave          6140.05           W 44 St & 11 Ave   \n",
       "3           38 St & 30 Ave          6850.01       Crescent St & 30 Ave   \n",
       "4   Pacific St & Nevins St          4362.04    Clinton St & Tillary St   \n",
       "\n",
       "  end_station_id  start_lat  start_lng    end_lat    end_lng member_casual  \\\n",
       "0        4605.04  40.688489 -73.991160  40.692395 -73.993379        member   \n",
       "1        5659.05  40.727243 -73.976831  40.727408 -73.981420        member   \n",
       "2        6756.05  40.741740 -73.994156  40.762009 -73.996975        member   \n",
       "3        6958.06  40.764175 -73.915840  40.768692 -73.924957        member   \n",
       "4        4748.07  40.685376 -73.983021  40.696233 -73.991421        member   \n",
       "\n",
       "            start_time        date  avgTemp _merge  \n",
       "0  2022-01-18 08:23:52  2022-01-18      1.8   both  \n",
       "1  2022-01-21 09:03:22  2022-01-21     -6.0   both  \n",
       "2  2022-01-22 14:28:32  2022-01-22     -5.9   both  \n",
       "3  2022-01-19 14:49:47  2022-01-19      3.2   both  \n",
       "4  2022-01-16 14:36:06  2022-01-16     -8.0   both  "
      ]
     },
     "execution_count": 3,
     "metadata": {},
     "output_type": "execute_result"
    }
   ],
   "source": [
    "df.head()"
   ]
  },
  {
   "cell_type": "code",
   "execution_count": 4,
   "id": "a679e39f-bdcd-474e-9e99-ebb281356aa9",
   "metadata": {},
   "outputs": [],
   "source": [
    "# Remove blank rows\n",
    "df1 = df.dropna()"
   ]
  },
  {
   "cell_type": "code",
   "execution_count": 5,
   "id": "bd82926d-4077-4f93-9845-c9fbb4204054",
   "metadata": {},
   "outputs": [
    {
     "name": "stderr",
     "output_type": "stream",
     "text": [
      "C:\\Users\\BhuwanDhakal\\AppData\\Local\\Temp\\ipykernel_19476\\2059346368.py:3: SettingWithCopyWarning: \n",
      "A value is trying to be set on a copy of a slice from a DataFrame.\n",
      "Try using .loc[row_indexer,col_indexer] = value instead\n",
      "\n",
      "See the caveats in the documentation: https://pandas.pydata.org/pandas-docs/stable/user_guide/indexing.html#returning-a-view-versus-a-copy\n",
      "  df1['value'] = 1\n"
     ]
    }
   ],
   "source": [
    "# Create a value column and group by start and end station \n",
    "\n",
    "df1['value'] = 1\n",
    "df_group = df1.groupby(['start_station_name', 'end_station_name', 'start_lat', 'start_lng', 'end_lat', 'end_lng'], as_index=False).agg({'value' : 'sum'})"
   ]
  },
  {
   "cell_type": "code",
   "execution_count": 6,
   "id": "17004aab-ca1f-4307-9992-7167e793dff5",
   "metadata": {},
   "outputs": [],
   "source": [
    "##final_df = df_group.sort_values(by=['value'], ascending=False)"
   ]
  },
  {
   "cell_type": "code",
   "execution_count": 7,
   "id": "e11337a3-da01-4e0b-b5ad-abc8e83a1db2",
   "metadata": {},
   "outputs": [],
   "source": [
    "df_final = df_group[df_group['value'] >10]"
   ]
  },
  {
   "cell_type": "code",
   "execution_count": 8,
   "id": "3dc7a0ea-cdc8-4154-9f0f-ba1c4bdd2ba9",
   "metadata": {
    "tags": []
   },
   "outputs": [
    {
     "data": {
      "text/html": [
       "<div>\n",
       "<style scoped>\n",
       "    .dataframe tbody tr th:only-of-type {\n",
       "        vertical-align: middle;\n",
       "    }\n",
       "\n",
       "    .dataframe tbody tr th {\n",
       "        vertical-align: top;\n",
       "    }\n",
       "\n",
       "    .dataframe thead th {\n",
       "        text-align: right;\n",
       "    }\n",
       "</style>\n",
       "<table border=\"1\" class=\"dataframe\">\n",
       "  <thead>\n",
       "    <tr style=\"text-align: right;\">\n",
       "      <th></th>\n",
       "      <th>start_station_name</th>\n",
       "      <th>end_station_name</th>\n",
       "      <th>start_lat</th>\n",
       "      <th>start_lng</th>\n",
       "      <th>end_lat</th>\n",
       "      <th>end_lng</th>\n",
       "      <th>value</th>\n",
       "    </tr>\n",
       "  </thead>\n",
       "  <tbody>\n",
       "    <tr>\n",
       "      <th>45</th>\n",
       "      <td>1 Ave &amp; E 110 St</td>\n",
       "      <td>1 Ave &amp; E 110 St</td>\n",
       "      <td>40.792327</td>\n",
       "      <td>-73.938300</td>\n",
       "      <td>40.792327</td>\n",
       "      <td>-73.938300</td>\n",
       "      <td>1241</td>\n",
       "    </tr>\n",
       "    <tr>\n",
       "      <th>226</th>\n",
       "      <td>1 Ave &amp; E 110 St</td>\n",
       "      <td>1 Ave &amp; E 44 St</td>\n",
       "      <td>40.792327</td>\n",
       "      <td>-73.938300</td>\n",
       "      <td>40.750020</td>\n",
       "      <td>-73.969053</td>\n",
       "      <td>11</td>\n",
       "    </tr>\n",
       "    <tr>\n",
       "      <th>229</th>\n",
       "      <td>1 Ave &amp; E 110 St</td>\n",
       "      <td>1 Ave &amp; E 62 St</td>\n",
       "      <td>40.792327</td>\n",
       "      <td>-73.938300</td>\n",
       "      <td>40.761227</td>\n",
       "      <td>-73.960940</td>\n",
       "      <td>23</td>\n",
       "    </tr>\n",
       "    <tr>\n",
       "      <th>235</th>\n",
       "      <td>1 Ave &amp; E 110 St</td>\n",
       "      <td>1 Ave &amp; E 68 St</td>\n",
       "      <td>40.792327</td>\n",
       "      <td>-73.938300</td>\n",
       "      <td>40.765005</td>\n",
       "      <td>-73.958185</td>\n",
       "      <td>33</td>\n",
       "    </tr>\n",
       "    <tr>\n",
       "      <th>241</th>\n",
       "      <td>1 Ave &amp; E 110 St</td>\n",
       "      <td>1 Ave &amp; E 78 St</td>\n",
       "      <td>40.792327</td>\n",
       "      <td>-73.938300</td>\n",
       "      <td>40.771404</td>\n",
       "      <td>-73.953517</td>\n",
       "      <td>43</td>\n",
       "    </tr>\n",
       "    <tr>\n",
       "      <th>...</th>\n",
       "      <td>...</td>\n",
       "      <td>...</td>\n",
       "      <td>...</td>\n",
       "      <td>...</td>\n",
       "      <td>...</td>\n",
       "      <td>...</td>\n",
       "      <td>...</td>\n",
       "    </tr>\n",
       "    <tr>\n",
       "      <th>5113443</th>\n",
       "      <td>Yankee Ferry Terminal</td>\n",
       "      <td>South St &amp; Gouverneur Ln</td>\n",
       "      <td>40.687066</td>\n",
       "      <td>-74.016756</td>\n",
       "      <td>40.703554</td>\n",
       "      <td>-74.006702</td>\n",
       "      <td>13</td>\n",
       "    </tr>\n",
       "    <tr>\n",
       "      <th>5113447</th>\n",
       "      <td>Yankee Ferry Terminal</td>\n",
       "      <td>South St &amp; Whitehall St</td>\n",
       "      <td>40.687066</td>\n",
       "      <td>-74.016756</td>\n",
       "      <td>40.701221</td>\n",
       "      <td>-74.012342</td>\n",
       "      <td>88</td>\n",
       "    </tr>\n",
       "    <tr>\n",
       "      <th>5113448</th>\n",
       "      <td>Yankee Ferry Terminal</td>\n",
       "      <td>South St &amp; Whitehall St</td>\n",
       "      <td>40.687066</td>\n",
       "      <td>-74.016756</td>\n",
       "      <td>40.701221</td>\n",
       "      <td>-74.012342</td>\n",
       "      <td>15</td>\n",
       "    </tr>\n",
       "    <tr>\n",
       "      <th>5113479</th>\n",
       "      <td>Yankee Ferry Terminal</td>\n",
       "      <td>Yankee Ferry Terminal</td>\n",
       "      <td>40.687066</td>\n",
       "      <td>-74.016756</td>\n",
       "      <td>40.687066</td>\n",
       "      <td>-74.016756</td>\n",
       "      <td>5039</td>\n",
       "    </tr>\n",
       "    <tr>\n",
       "      <th>5113481</th>\n",
       "      <td>Yankee Ferry Terminal</td>\n",
       "      <td>Yankee Ferry Terminal</td>\n",
       "      <td>40.687066</td>\n",
       "      <td>-74.016756</td>\n",
       "      <td>40.687066</td>\n",
       "      <td>-74.016756</td>\n",
       "      <td>842</td>\n",
       "    </tr>\n",
       "  </tbody>\n",
       "</table>\n",
       "<p>289527 rows × 7 columns</p>\n",
       "</div>"
      ],
      "text/plain": [
       "            start_station_name          end_station_name  start_lat  \\\n",
       "45            1 Ave & E 110 St          1 Ave & E 110 St  40.792327   \n",
       "226           1 Ave & E 110 St           1 Ave & E 44 St  40.792327   \n",
       "229           1 Ave & E 110 St           1 Ave & E 62 St  40.792327   \n",
       "235           1 Ave & E 110 St           1 Ave & E 68 St  40.792327   \n",
       "241           1 Ave & E 110 St           1 Ave & E 78 St  40.792327   \n",
       "...                        ...                       ...        ...   \n",
       "5113443  Yankee Ferry Terminal  South St & Gouverneur Ln  40.687066   \n",
       "5113447  Yankee Ferry Terminal   South St & Whitehall St  40.687066   \n",
       "5113448  Yankee Ferry Terminal   South St & Whitehall St  40.687066   \n",
       "5113479  Yankee Ferry Terminal     Yankee Ferry Terminal  40.687066   \n",
       "5113481  Yankee Ferry Terminal     Yankee Ferry Terminal  40.687066   \n",
       "\n",
       "         start_lng    end_lat    end_lng  value  \n",
       "45      -73.938300  40.792327 -73.938300   1241  \n",
       "226     -73.938300  40.750020 -73.969053     11  \n",
       "229     -73.938300  40.761227 -73.960940     23  \n",
       "235     -73.938300  40.765005 -73.958185     33  \n",
       "241     -73.938300  40.771404 -73.953517     43  \n",
       "...            ...        ...        ...    ...  \n",
       "5113443 -74.016756  40.703554 -74.006702     13  \n",
       "5113447 -74.016756  40.701221 -74.012342     88  \n",
       "5113448 -74.016756  40.701221 -74.012342     15  \n",
       "5113479 -74.016756  40.687066 -74.016756   5039  \n",
       "5113481 -74.016756  40.687066 -74.016756    842  \n",
       "\n",
       "[289527 rows x 7 columns]"
      ]
     },
     "execution_count": 8,
     "metadata": {},
     "output_type": "execute_result"
    }
   ],
   "source": [
    "df_final"
   ]
  },
  {
   "cell_type": "code",
   "execution_count": 9,
   "id": "e582b6d0-141e-4574-8185-9f6957560fbe",
   "metadata": {},
   "outputs": [
    {
     "data": {
      "text/plain": [
       "start_station_name     object\n",
       "end_station_name       object\n",
       "start_lat             float64\n",
       "start_lng             float64\n",
       "end_lat               float64\n",
       "end_lng               float64\n",
       "value                   int64\n",
       "dtype: object"
      ]
     },
     "execution_count": 9,
     "metadata": {},
     "output_type": "execute_result"
    }
   ],
   "source": [
    "df_final.dtypes"
   ]
  },
  {
   "cell_type": "code",
   "execution_count": 10,
   "id": "e975b1f7-663a-4b52-826c-ee0d72e1de58",
   "metadata": {},
   "outputs": [],
   "source": [
    "#df_final['start_lat'] = str(df_final['start_lat'])"
   ]
  },
  {
   "cell_type": "code",
   "execution_count": 11,
   "id": "ff267f95-11b4-4a49-9338-a6fa31143431",
   "metadata": {},
   "outputs": [],
   "source": [
    "#df_final['start_lng'] = str(df_final['start_lng'])"
   ]
  },
  {
   "cell_type": "code",
   "execution_count": 12,
   "id": "6343e123-1c86-4817-bb4b-a3312c565d88",
   "metadata": {},
   "outputs": [],
   "source": [
    "#df_final['end_lat'] = str(df_final['end_lat'])"
   ]
  },
  {
   "cell_type": "code",
   "execution_count": 13,
   "id": "2c5647e5-43ba-47eb-b61e-ea84ed9c3090",
   "metadata": {},
   "outputs": [],
   "source": [
    "#df_final['end_lng'] = str(df_final['end_lng'])"
   ]
  },
  {
   "cell_type": "code",
   "execution_count": 14,
   "id": "584bdd6f-46fd-4ae8-afd5-88c52f5d5746",
   "metadata": {},
   "outputs": [
    {
     "data": {
      "text/html": [
       "<div>\n",
       "<style scoped>\n",
       "    .dataframe tbody tr th:only-of-type {\n",
       "        vertical-align: middle;\n",
       "    }\n",
       "\n",
       "    .dataframe tbody tr th {\n",
       "        vertical-align: top;\n",
       "    }\n",
       "\n",
       "    .dataframe thead th {\n",
       "        text-align: right;\n",
       "    }\n",
       "</style>\n",
       "<table border=\"1\" class=\"dataframe\">\n",
       "  <thead>\n",
       "    <tr style=\"text-align: right;\">\n",
       "      <th></th>\n",
       "      <th>start_station_name</th>\n",
       "      <th>end_station_name</th>\n",
       "      <th>start_lat</th>\n",
       "      <th>start_lng</th>\n",
       "      <th>end_lat</th>\n",
       "      <th>end_lng</th>\n",
       "      <th>value</th>\n",
       "    </tr>\n",
       "  </thead>\n",
       "  <tbody>\n",
       "    <tr>\n",
       "      <th>45</th>\n",
       "      <td>1 Ave &amp; E 110 St</td>\n",
       "      <td>1 Ave &amp; E 110 St</td>\n",
       "      <td>40.792327</td>\n",
       "      <td>-73.9383</td>\n",
       "      <td>40.792327</td>\n",
       "      <td>-73.938300</td>\n",
       "      <td>1241</td>\n",
       "    </tr>\n",
       "    <tr>\n",
       "      <th>226</th>\n",
       "      <td>1 Ave &amp; E 110 St</td>\n",
       "      <td>1 Ave &amp; E 44 St</td>\n",
       "      <td>40.792327</td>\n",
       "      <td>-73.9383</td>\n",
       "      <td>40.750020</td>\n",
       "      <td>-73.969053</td>\n",
       "      <td>11</td>\n",
       "    </tr>\n",
       "    <tr>\n",
       "      <th>229</th>\n",
       "      <td>1 Ave &amp; E 110 St</td>\n",
       "      <td>1 Ave &amp; E 62 St</td>\n",
       "      <td>40.792327</td>\n",
       "      <td>-73.9383</td>\n",
       "      <td>40.761227</td>\n",
       "      <td>-73.960940</td>\n",
       "      <td>23</td>\n",
       "    </tr>\n",
       "    <tr>\n",
       "      <th>235</th>\n",
       "      <td>1 Ave &amp; E 110 St</td>\n",
       "      <td>1 Ave &amp; E 68 St</td>\n",
       "      <td>40.792327</td>\n",
       "      <td>-73.9383</td>\n",
       "      <td>40.765005</td>\n",
       "      <td>-73.958185</td>\n",
       "      <td>33</td>\n",
       "    </tr>\n",
       "    <tr>\n",
       "      <th>241</th>\n",
       "      <td>1 Ave &amp; E 110 St</td>\n",
       "      <td>1 Ave &amp; E 78 St</td>\n",
       "      <td>40.792327</td>\n",
       "      <td>-73.9383</td>\n",
       "      <td>40.771404</td>\n",
       "      <td>-73.953517</td>\n",
       "      <td>43</td>\n",
       "    </tr>\n",
       "  </tbody>\n",
       "</table>\n",
       "</div>"
      ],
      "text/plain": [
       "    start_station_name  end_station_name  start_lat  start_lng    end_lat  \\\n",
       "45    1 Ave & E 110 St  1 Ave & E 110 St  40.792327   -73.9383  40.792327   \n",
       "226   1 Ave & E 110 St   1 Ave & E 44 St  40.792327   -73.9383  40.750020   \n",
       "229   1 Ave & E 110 St   1 Ave & E 62 St  40.792327   -73.9383  40.761227   \n",
       "235   1 Ave & E 110 St   1 Ave & E 68 St  40.792327   -73.9383  40.765005   \n",
       "241   1 Ave & E 110 St   1 Ave & E 78 St  40.792327   -73.9383  40.771404   \n",
       "\n",
       "       end_lng  value  \n",
       "45  -73.938300   1241  \n",
       "226 -73.969053     11  \n",
       "229 -73.960940     23  \n",
       "235 -73.958185     33  \n",
       "241 -73.953517     43  "
      ]
     },
     "execution_count": 14,
     "metadata": {},
     "output_type": "execute_result"
    }
   ],
   "source": [
    "df_final.head()"
   ]
  },
  {
   "cell_type": "code",
   "execution_count": 15,
   "id": "7622e9b5-cb03-4161-ac0e-fc2f8a710235",
   "metadata": {},
   "outputs": [
    {
     "data": {
      "text/plain": [
       "start_station_name     object\n",
       "end_station_name       object\n",
       "start_lat             float64\n",
       "start_lng             float64\n",
       "end_lat               float64\n",
       "end_lng               float64\n",
       "value                   int64\n",
       "dtype: object"
      ]
     },
     "execution_count": 15,
     "metadata": {},
     "output_type": "execute_result"
    }
   ],
   "source": [
    "df_final.dtypes"
   ]
  },
  {
   "cell_type": "code",
   "execution_count": 16,
   "id": "6a296ad6-cdc8-4f65-bee6-e3b39d8ddece",
   "metadata": {},
   "outputs": [
    {
     "name": "stderr",
     "output_type": "stream",
     "text": [
      "C:\\Users\\BhuwanDhakal\\AppData\\Local\\Temp\\ipykernel_19476\\1385790579.py:1: SettingWithCopyWarning: \n",
      "A value is trying to be set on a copy of a slice from a DataFrame.\n",
      "Try using .loc[row_indexer,col_indexer] = value instead\n",
      "\n",
      "See the caveats in the documentation: https://pandas.pydata.org/pandas-docs/stable/user_guide/indexing.html#returning-a-view-versus-a-copy\n",
      "  df_final['value'] = df_final['value'].astype('float')\n"
     ]
    }
   ],
   "source": [
    "df_final['value'] = df_final['value'].astype('float')"
   ]
  },
  {
   "cell_type": "code",
   "execution_count": 17,
   "id": "1448a0c4-a324-48cb-8830-682599fd210a",
   "metadata": {},
   "outputs": [],
   "source": [
    "df_final.to_csv('NY_final_locations_for_map.csv')"
   ]
  },
  {
   "cell_type": "code",
   "execution_count": 18,
   "id": "df255359-8f4d-417f-90ea-4c4eea29f576",
   "metadata": {},
   "outputs": [
    {
     "data": {
      "text/plain": [
       "0"
      ]
     },
     "execution_count": 18,
     "metadata": {},
     "output_type": "execute_result"
    }
   ],
   "source": [
    "import gc # this is garbage collector - speeds up performance\n",
    "gc.collect()"
   ]
  },
  {
   "cell_type": "code",
   "execution_count": 19,
   "id": "ba7258f8-7d7e-4056-b2bd-fcb874de2382",
   "metadata": {},
   "outputs": [
    {
     "name": "stdout",
     "output_type": "stream",
     "text": [
      "User Guide: https://docs.kepler.gl/docs/keplergl-jupyter\n"
     ]
    },
    {
     "data": {
      "application/vnd.jupyter.widget-view+json": {
       "model_id": "99a0bfc30efc4234ae78cfbf5ff25fb3",
       "version_major": 2,
       "version_minor": 0
      },
      "text/plain": [
       "KeplerGl(data={'data_1':             start_station_name          end_station_name  start_lat  \\\n",
       "45            …"
      ]
     },
     "metadata": {},
     "output_type": "display_data"
    }
   ],
   "source": [
    "# Create KeplerGl instance\n",
    "\n",
    "m = KeplerGl(height=400, data={\"data_1\": df_final})\n",
    "m"
   ]
  },
  {
   "cell_type": "markdown",
   "id": "8fd3c8e9-431a-4a8e-9a37-b81e59e1df37",
   "metadata": {},
   "source": [
    "- I turned on the Arc and changed the color palette to make it more visible. I changed the color based on number of trips, so that it is easy to see which route is more busy\n",
    "\n",
    "- I changed the filter to see the busiest location and the busiest route. I see the most popular route is from W 21 St & 6 eve to 9 Ave & W 22 St. Based on quick google search the location is at center of Manhattan nearby Hudson River and the high rise buildigns. It indicates the tourists might be renting the bike. Also employees and tourists might be renting to go to the Chelsea Market \n",
    "\n",
    "- The most popular locations with same starting and ending point is at the edge of central park. This indicates people renting bike and tour the areas around central park and return it at the same destination "
   ]
  },
  {
   "cell_type": "code",
   "execution_count": 26,
   "id": "262c0c85-ecf8-4f4e-bdbc-c404847d789c",
   "metadata": {},
   "outputs": [],
   "source": [
    "config = m.config"
   ]
  },
  {
   "cell_type": "code",
   "execution_count": 27,
   "id": "7f86cbfe-8d32-4088-b49d-7f26560bae36",
   "metadata": {},
   "outputs": [
    {
     "data": {
      "text/plain": [
       "{'version': 'v1',\n",
       " 'config': {'visState': {'filters': [{'dataId': ['data_1'],\n",
       "     'id': 'tihi05c',\n",
       "     'name': ['value'],\n",
       "     'type': 'range',\n",
       "     'value': [1000, 12480],\n",
       "     'enlarged': False,\n",
       "     'plotType': 'histogram',\n",
       "     'animationWindow': 'free',\n",
       "     'yAxis': None,\n",
       "     'speed': 1}],\n",
       "   'layers': [{'id': '59pqx4r',\n",
       "     'type': 'point',\n",
       "     'config': {'dataId': 'data_1',\n",
       "      'label': 'start',\n",
       "      'color': [18, 147, 154],\n",
       "      'highlightColor': [252, 242, 26, 255],\n",
       "      'columns': {'lat': 'start_lat', 'lng': 'start_lng', 'altitude': None},\n",
       "      'isVisible': True,\n",
       "      'visConfig': {'radius': 5,\n",
       "       'fixedRadius': False,\n",
       "       'opacity': 0.8,\n",
       "       'outline': False,\n",
       "       'thickness': 2,\n",
       "       'strokeColor': None,\n",
       "       'colorRange': {'name': 'UberPool 6',\n",
       "        'type': 'diverging',\n",
       "        'category': 'Uber',\n",
       "        'colors': ['#213E9A',\n",
       "         '#551EAD',\n",
       "         '#C019BD',\n",
       "         '#D31256',\n",
       "         '#E6470A',\n",
       "         '#F9E200']},\n",
       "       'strokeColorRange': {'name': 'Global Warming',\n",
       "        'type': 'sequential',\n",
       "        'category': 'Uber',\n",
       "        'colors': ['#5A1846',\n",
       "         '#900C3F',\n",
       "         '#C70039',\n",
       "         '#E3611C',\n",
       "         '#F1920E',\n",
       "         '#FFC300']},\n",
       "       'radiusRange': [0, 50],\n",
       "       'filled': True},\n",
       "      'hidden': False,\n",
       "      'textLabel': [{'field': None,\n",
       "        'color': [255, 255, 255],\n",
       "        'size': 18,\n",
       "        'offset': [0, 0],\n",
       "        'anchor': 'start',\n",
       "        'alignment': 'center'}]},\n",
       "     'visualChannels': {'colorField': {'name': 'value', 'type': 'integer'},\n",
       "      'colorScale': 'quantile',\n",
       "      'strokeColorField': None,\n",
       "      'strokeColorScale': 'quantile',\n",
       "      'sizeField': None,\n",
       "      'sizeScale': 'linear'}},\n",
       "    {'id': 'iim82z',\n",
       "     'type': 'point',\n",
       "     'config': {'dataId': 'data_1',\n",
       "      'label': 'end',\n",
       "      'color': [221, 178, 124],\n",
       "      'highlightColor': [252, 242, 26, 255],\n",
       "      'columns': {'lat': 'end_lat', 'lng': 'end_lng', 'altitude': None},\n",
       "      'isVisible': False,\n",
       "      'visConfig': {'radius': 5,\n",
       "       'fixedRadius': False,\n",
       "       'opacity': 0.8,\n",
       "       'outline': False,\n",
       "       'thickness': 2,\n",
       "       'strokeColor': None,\n",
       "       'colorRange': {'name': 'UberPool 6',\n",
       "        'type': 'diverging',\n",
       "        'category': 'Uber',\n",
       "        'colors': ['#213E9A',\n",
       "         '#551EAD',\n",
       "         '#C019BD',\n",
       "         '#D31256',\n",
       "         '#E6470A',\n",
       "         '#F9E200']},\n",
       "       'strokeColorRange': {'name': 'Global Warming',\n",
       "        'type': 'sequential',\n",
       "        'category': 'Uber',\n",
       "        'colors': ['#5A1846',\n",
       "         '#900C3F',\n",
       "         '#C70039',\n",
       "         '#E3611C',\n",
       "         '#F1920E',\n",
       "         '#FFC300']},\n",
       "       'radiusRange': [0, 50],\n",
       "       'filled': True},\n",
       "      'hidden': False,\n",
       "      'textLabel': [{'field': None,\n",
       "        'color': [255, 255, 255],\n",
       "        'size': 18,\n",
       "        'offset': [0, 0],\n",
       "        'anchor': 'start',\n",
       "        'alignment': 'center'}]},\n",
       "     'visualChannels': {'colorField': {'name': 'value', 'type': 'integer'},\n",
       "      'colorScale': 'quantile',\n",
       "      'strokeColorField': None,\n",
       "      'strokeColorScale': 'quantile',\n",
       "      'sizeField': None,\n",
       "      'sizeScale': 'linear'}},\n",
       "    {'id': 'owq7uw',\n",
       "     'type': 'arc',\n",
       "     'config': {'dataId': 'data_1',\n",
       "      'label': 'start -> end arc',\n",
       "      'color': [146, 38, 198],\n",
       "      'highlightColor': [252, 242, 26, 255],\n",
       "      'columns': {'lat0': 'start_lat',\n",
       "       'lng0': 'start_lng',\n",
       "       'lat1': 'end_lat',\n",
       "       'lng1': 'end_lng'},\n",
       "      'isVisible': True,\n",
       "      'visConfig': {'opacity': 0.61,\n",
       "       'thickness': 2,\n",
       "       'colorRange': {'name': 'Global Warming',\n",
       "        'type': 'sequential',\n",
       "        'category': 'Uber',\n",
       "        'colors': ['#5A1846',\n",
       "         '#900C3F',\n",
       "         '#C70039',\n",
       "         '#E3611C',\n",
       "         '#F1920E',\n",
       "         '#FFC300']},\n",
       "       'sizeRange': [0, 10],\n",
       "       'targetColor': None},\n",
       "      'hidden': False,\n",
       "      'textLabel': [{'field': None,\n",
       "        'color': [255, 255, 255],\n",
       "        'size': 18,\n",
       "        'offset': [0, 0],\n",
       "        'anchor': 'start',\n",
       "        'alignment': 'center'}]},\n",
       "     'visualChannels': {'colorField': {'name': 'value', 'type': 'integer'},\n",
       "      'colorScale': 'quantile',\n",
       "      'sizeField': None,\n",
       "      'sizeScale': 'linear'}},\n",
       "    {'id': 'exs1f8j',\n",
       "     'type': 'line',\n",
       "     'config': {'dataId': 'data_1',\n",
       "      'label': 'start -> end line',\n",
       "      'color': [136, 87, 44],\n",
       "      'highlightColor': [252, 242, 26, 255],\n",
       "      'columns': {'lat0': 'start_lat',\n",
       "       'lng0': 'start_lng',\n",
       "       'alt0': None,\n",
       "       'lat1': 'end_lat',\n",
       "       'lng1': 'end_lng',\n",
       "       'alt1': None},\n",
       "      'isVisible': False,\n",
       "      'visConfig': {'opacity': 0.8,\n",
       "       'thickness': 2,\n",
       "       'colorRange': {'name': 'Global Warming',\n",
       "        'type': 'sequential',\n",
       "        'category': 'Uber',\n",
       "        'colors': ['#5A1846',\n",
       "         '#900C3F',\n",
       "         '#C70039',\n",
       "         '#E3611C',\n",
       "         '#F1920E',\n",
       "         '#FFC300']},\n",
       "       'sizeRange': [0, 10],\n",
       "       'targetColor': None,\n",
       "       'elevationScale': 1},\n",
       "      'hidden': False,\n",
       "      'textLabel': [{'field': None,\n",
       "        'color': [255, 255, 255],\n",
       "        'size': 18,\n",
       "        'offset': [0, 0],\n",
       "        'anchor': 'start',\n",
       "        'alignment': 'center'}]},\n",
       "     'visualChannels': {'colorField': None,\n",
       "      'colorScale': 'quantile',\n",
       "      'sizeField': None,\n",
       "      'sizeScale': 'linear'}}],\n",
       "   'interactionConfig': {'tooltip': {'fieldsToShow': {'data_1': [{'name': 'start_station_name',\n",
       "        'format': None},\n",
       "       {'name': 'end_station_name', 'format': None},\n",
       "       {'name': 'value', 'format': None}]},\n",
       "     'compareMode': True,\n",
       "     'compareType': 'absolute',\n",
       "     'enabled': True},\n",
       "    'brush': {'size': 0.5, 'enabled': False},\n",
       "    'geocoder': {'enabled': False},\n",
       "    'coordinate': {'enabled': True}},\n",
       "   'layerBlending': 'normal',\n",
       "   'splitMaps': [],\n",
       "   'animationConfig': {'currentTime': None, 'speed': 1}},\n",
       "  'mapState': {'bearing': 0,\n",
       "   'dragRotate': False,\n",
       "   'latitude': 40.737250920064476,\n",
       "   'longitude': -73.9690531677889,\n",
       "   'pitch': 0,\n",
       "   'zoom': 10.877598704102795,\n",
       "   'isSplit': False},\n",
       "  'mapStyle': {'styleType': 'dark',\n",
       "   'topLayerGroups': {},\n",
       "   'visibleLayerGroups': {'label': True,\n",
       "    'road': True,\n",
       "    'border': False,\n",
       "    'building': True,\n",
       "    'water': True,\n",
       "    'land': True,\n",
       "    '3d building': False},\n",
       "   'threeDBuildingColor': [9.665468314072013,\n",
       "    17.18305478057247,\n",
       "    31.1442867897876],\n",
       "   'mapStyles': {}}}}"
      ]
     },
     "execution_count": 27,
     "metadata": {},
     "output_type": "execute_result"
    }
   ],
   "source": [
    "config"
   ]
  },
  {
   "cell_type": "code",
   "execution_count": 28,
   "id": "5cd62089-916c-4a09-9cb4-f8b8d78f37a3",
   "metadata": {},
   "outputs": [],
   "source": [
    "import json\n",
    "with open(\"config.json\", \"w\") as outfile:\n",
    "    json.dump(config, outfile)"
   ]
  },
  {
   "cell_type": "code",
   "execution_count": 29,
   "id": "218687f5-3b06-4ff2-97d0-7127f4012bc4",
   "metadata": {},
   "outputs": [
    {
     "name": "stdout",
     "output_type": "stream",
     "text": [
      "Map saved to NY Bike Trips Aggregated.html!\n"
     ]
    }
   ],
   "source": [
    "m.save_to_html(file_name = 'NY Bike Trips Aggregated.html', read_only = False, config = config)"
   ]
  },
  {
   "cell_type": "code",
   "execution_count": null,
   "id": "03e95c2f-0a0c-457d-b9a1-235a0831f23d",
   "metadata": {},
   "outputs": [],
   "source": []
  }
 ],
 "metadata": {
  "kernelspec": {
   "display_name": "Python [conda env:base] *",
   "language": "python",
   "name": "conda-base-py"
  },
  "language_info": {
   "codemirror_mode": {
    "name": "ipython",
    "version": 3
   },
   "file_extension": ".py",
   "mimetype": "text/x-python",
   "name": "python",
   "nbconvert_exporter": "python",
   "pygments_lexer": "ipython3",
   "version": "3.9.19"
  }
 },
 "nbformat": 4,
 "nbformat_minor": 5
}
